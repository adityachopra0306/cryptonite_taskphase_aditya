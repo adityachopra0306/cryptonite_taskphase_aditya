{
 "cells": [
  {
   "cell_type": "markdown",
   "id": "2b817a44-3206-4938-afd6-93cc6cb8b419",
   "metadata": {},
   "source": [
    "# Logistic Regression\n",
    "\n",
    "Logistic Regression is a Binary Classification Algorithm that is used when the target variable is categorical. It models the probability of a certain class (like 0 or 1) using a logistic(sigmoid) function.\n",
    "\n",
    "The goal of logistic regression is to find the best-fitting model that predicts the probability of an instance belonging to a particular class. The model outputs values between 0 and 1, which are interpreted as probabilities.\n"
   ]
  },
  {
   "cell_type": "markdown",
   "id": "2714dcb3-f04b-412b-b3d6-b6ff56e0cb9b",
   "metadata": {},
   "source": [
    "### Hypothesis function for Logistic Regression\n",
    "\n",
    "The hypothesis function for logistic regression is expressed as:\n",
    "\n",
    "$$\n",
    "h_\\theta(x) = g(\\theta^Tx)\n",
    "$$\n",
    "\n",
    "where $g(z) = \\frac{1}{1+e^{-z}}$ is the **Sigmoid Function**.  \n",
    "\n",
    "Hence, we have:\n",
    "\n",
    "$$\n",
    "h_\\theta(x) = \\frac{1}{1 + e^{-\\theta^T x}}\n",
    "$$\n",
    "\n",
    "where:\n",
    "- $h_\\theta(x)$ is the predicted probability that the instance belongs to class 1.\n",
    "- $\\theta$ is the parameter vector.\n",
    "- $x$ is the feature vector.\n",
    "\n",
    "### Log-Likelihood Function for Logistic Regression\n",
    "\n",
    "To train the logistic regression model, we aim to maximise the log-likelihood function, which represents the success rate of the model:\n",
    "\n",
    "$$\n",
    "\\ell(\\theta) = \\sum_{i=1}^{m} \\ [ \\ y^ilog(h_\\theta(x^i)) + (1-y^i)log(1-h_\\theta(x^i)) \\ ]\n",
    "$$\n",
    "\n",
    "Where:\n",
    "- $m$ is the number of training examples.\n",
    "- $y^i$ is the label for the $i^{th}$ training example (either 0 or 1).\n",
    "- $h_\\theta(x^i)$ is the predicted probability for the $i^{th}$ training example.\n",
    "\n",
    "### Gradient Ascent\n",
    "\n",
    "To maximize the log-likelihood function and find the optimal values for the parameters $ \\theta $, we use **Gradient Ascent**. The update rule for each parameter $ \\theta_j $ is:\n",
    "\n",
    "$$\n",
    "    \\theta_j := \\theta_j + \\sum_{i=1}^m \\ \\frac{\\partial{\\ell(\\theta)}}{\\partial{\\theta_j}}\n",
    "$$\n",
    "\n",
    "By substituting the value of l(\\theta) from above and solving the derivatives, we get:\n",
    "\n",
    "$$\n",
    "\\theta_j := \\theta_j + \\alpha \\sum_{i=1}^{m} \\ (y^i - h_\\theta(x^i)) x_j^i\n",
    "$$\n",
    "\n",
    "Where:\n",
    "- $ \\alpha $ is the learning rate.\n",
    "- $ m $ is the number of training examples."
   ]
  },
  {
   "cell_type": "markdown",
   "id": "625f3d83-04ee-430a-8336-c4c81de756ed",
   "metadata": {},
   "source": [
    "# Implementation of Logistic Regression"
   ]
  },
  {
   "cell_type": "markdown",
   "id": "7998e018-2a18-4f70-834b-76173db494a2",
   "metadata": {},
   "source": [
    "## Importing Libraries"
   ]
  },
  {
   "cell_type": "code",
   "execution_count": 1,
   "id": "31b74ded-48bb-4a86-813b-f49bd8109c74",
   "metadata": {},
   "outputs": [],
   "source": [
    "import numpy as np\n",
    "import pandas as pd\n",
    "from sklearn.datasets import load_diabetes\n",
    "import matplotlib.pyplot as plt\n",
    "%matplotlib inline"
   ]
  },
  {
   "cell_type": "code",
   "execution_count": 2,
   "id": "8dbc1c55-95ab-402f-953c-a0fe49735c32",
   "metadata": {},
   "outputs": [],
   "source": [
    "def sigmoid(z):\n",
    "    return 1/(1+np.exp(-z))"
   ]
  },
  {
   "cell_type": "markdown",
   "id": "836983eb-4ca4-4e9c-9e1b-d39e31405856",
   "metadata": {},
   "source": [
    "## Loading Data"
   ]
  },
  {
   "cell_type": "code",
   "execution_count": 3,
   "id": "5588b578-123b-457f-bdac-cdeced2c5ab1",
   "metadata": {},
   "outputs": [
    {
     "data": {
      "text/html": [
       "<div>\n",
       "<style scoped>\n",
       "    .dataframe tbody tr th:only-of-type {\n",
       "        vertical-align: middle;\n",
       "    }\n",
       "\n",
       "    .dataframe tbody tr th {\n",
       "        vertical-align: top;\n",
       "    }\n",
       "\n",
       "    .dataframe thead th {\n",
       "        text-align: right;\n",
       "    }\n",
       "</style>\n",
       "<table border=\"1\" class=\"dataframe\">\n",
       "  <thead>\n",
       "    <tr style=\"text-align: right;\">\n",
       "      <th></th>\n",
       "      <th>User ID</th>\n",
       "      <th>Gender</th>\n",
       "      <th>Age</th>\n",
       "      <th>EstimatedSalary</th>\n",
       "      <th>Purchased</th>\n",
       "    </tr>\n",
       "  </thead>\n",
       "  <tbody>\n",
       "    <tr>\n",
       "      <th>0</th>\n",
       "      <td>15624510</td>\n",
       "      <td>Male</td>\n",
       "      <td>19</td>\n",
       "      <td>19000</td>\n",
       "      <td>0</td>\n",
       "    </tr>\n",
       "    <tr>\n",
       "      <th>1</th>\n",
       "      <td>15810944</td>\n",
       "      <td>Male</td>\n",
       "      <td>35</td>\n",
       "      <td>20000</td>\n",
       "      <td>0</td>\n",
       "    </tr>\n",
       "    <tr>\n",
       "      <th>2</th>\n",
       "      <td>15668575</td>\n",
       "      <td>Female</td>\n",
       "      <td>26</td>\n",
       "      <td>43000</td>\n",
       "      <td>0</td>\n",
       "    </tr>\n",
       "    <tr>\n",
       "      <th>3</th>\n",
       "      <td>15603246</td>\n",
       "      <td>Female</td>\n",
       "      <td>27</td>\n",
       "      <td>57000</td>\n",
       "      <td>0</td>\n",
       "    </tr>\n",
       "    <tr>\n",
       "      <th>4</th>\n",
       "      <td>15804002</td>\n",
       "      <td>Male</td>\n",
       "      <td>19</td>\n",
       "      <td>76000</td>\n",
       "      <td>0</td>\n",
       "    </tr>\n",
       "    <tr>\n",
       "      <th>...</th>\n",
       "      <td>...</td>\n",
       "      <td>...</td>\n",
       "      <td>...</td>\n",
       "      <td>...</td>\n",
       "      <td>...</td>\n",
       "    </tr>\n",
       "    <tr>\n",
       "      <th>395</th>\n",
       "      <td>15691863</td>\n",
       "      <td>Female</td>\n",
       "      <td>46</td>\n",
       "      <td>41000</td>\n",
       "      <td>1</td>\n",
       "    </tr>\n",
       "    <tr>\n",
       "      <th>396</th>\n",
       "      <td>15706071</td>\n",
       "      <td>Male</td>\n",
       "      <td>51</td>\n",
       "      <td>23000</td>\n",
       "      <td>1</td>\n",
       "    </tr>\n",
       "    <tr>\n",
       "      <th>397</th>\n",
       "      <td>15654296</td>\n",
       "      <td>Female</td>\n",
       "      <td>50</td>\n",
       "      <td>20000</td>\n",
       "      <td>1</td>\n",
       "    </tr>\n",
       "    <tr>\n",
       "      <th>398</th>\n",
       "      <td>15755018</td>\n",
       "      <td>Male</td>\n",
       "      <td>36</td>\n",
       "      <td>33000</td>\n",
       "      <td>0</td>\n",
       "    </tr>\n",
       "    <tr>\n",
       "      <th>399</th>\n",
       "      <td>15594041</td>\n",
       "      <td>Female</td>\n",
       "      <td>49</td>\n",
       "      <td>36000</td>\n",
       "      <td>1</td>\n",
       "    </tr>\n",
       "  </tbody>\n",
       "</table>\n",
       "<p>400 rows × 5 columns</p>\n",
       "</div>"
      ],
      "text/plain": [
       "      User ID  Gender  Age  EstimatedSalary  Purchased\n",
       "0    15624510    Male   19            19000          0\n",
       "1    15810944    Male   35            20000          0\n",
       "2    15668575  Female   26            43000          0\n",
       "3    15603246  Female   27            57000          0\n",
       "4    15804002    Male   19            76000          0\n",
       "..        ...     ...  ...              ...        ...\n",
       "395  15691863  Female   46            41000          1\n",
       "396  15706071    Male   51            23000          1\n",
       "397  15654296  Female   50            20000          1\n",
       "398  15755018    Male   36            33000          0\n",
       "399  15594041  Female   49            36000          1\n",
       "\n",
       "[400 rows x 5 columns]"
      ]
     },
     "execution_count": 3,
     "metadata": {},
     "output_type": "execute_result"
    }
   ],
   "source": [
    "CSVPATH = 'purchase.csv'\n",
    "df = pd.read_csv(CSVPATH)\n",
    "df"
   ]
  },
  {
   "cell_type": "code",
   "execution_count": 4,
   "id": "d7cb870d-5f3d-426b-a896-2144f8e01076",
   "metadata": {},
   "outputs": [],
   "source": [
    "df = df.drop('User ID', axis=1).dropna()"
   ]
  },
  {
   "cell_type": "code",
   "execution_count": 5,
   "id": "2bf97d5d-5a32-4eda-918b-0f7cce2288aa",
   "metadata": {},
   "outputs": [
    {
     "name": "stderr",
     "output_type": "stream",
     "text": [
      "/tmp/ipykernel_105020/2087688777.py:1: FutureWarning: Downcasting behavior in `replace` is deprecated and will be removed in a future version. To retain the old behavior, explicitly call `result.infer_objects(copy=False)`. To opt-in to the future behavior, set `pd.set_option('future.no_silent_downcasting', True)`\n",
      "  df['Gender'] = df['Gender'].replace({'Male':1,'Female':0})\n"
     ]
    }
   ],
   "source": [
    "df['Gender'] = df['Gender'].replace({'Male':1,'Female':0})"
   ]
  },
  {
   "cell_type": "markdown",
   "id": "533c880b-ce7c-4673-addd-264d22761e51",
   "metadata": {},
   "source": [
    "## Pre-Processing"
   ]
  },
  {
   "cell_type": "code",
   "execution_count": 6,
   "id": "a7f27f48-d8f3-4809-ab56-a9b8499fa2d8",
   "metadata": {},
   "outputs": [],
   "source": [
    "dat = df.to_numpy()\n",
    "np.random.shuffle(dat)\n",
    "x = dat[:,0:-1]"
   ]
  },
  {
   "cell_type": "code",
   "execution_count": 7,
   "id": "25c3e782-7598-4ec0-b167-67e22c803ca0",
   "metadata": {},
   "outputs": [],
   "source": [
    "y = dat[:,-1]"
   ]
  },
  {
   "cell_type": "code",
   "execution_count": 8,
   "id": "059421f3-d875-4491-a540-a4fbe9857411",
   "metadata": {},
   "outputs": [],
   "source": [
    "x_mean = x.mean(axis=0)\n",
    "x_std = x.std(axis=0)"
   ]
  },
  {
   "cell_type": "code",
   "execution_count": 9,
   "id": "2315243d-9796-44e5-acf6-0b67b8c406fa",
   "metadata": {},
   "outputs": [],
   "source": [
    "x = x.astype(float)\n",
    "x[:,1:3] = (x[:,1:3]-x_mean[1:3])/x_std[1:3]\n",
    "x = np.hstack([np.ones((400,1)),x])"
   ]
  },
  {
   "cell_type": "code",
   "execution_count": 15,
   "id": "c430d71b-e200-4009-9581-e7b7fdbc5ce8",
   "metadata": {},
   "outputs": [
    {
     "name": "stdout",
     "output_type": "stream",
     "text": [
      "[[ 1.          0.         -0.63563988  0.56549373]\n",
      " [ 1.          0.         -1.01769239  0.77104772]\n",
      " [ 1.          0.          1.27462271  1.88691227]\n",
      " ...\n",
      " [ 1.          0.         -1.59077117 -1.5781408 ]\n",
      " [ 1.          1.          0.22397829 -0.37418169]\n",
      " [ 1.          1.         -0.82666613 -0.25672226]]\n"
     ]
    }
   ],
   "source": [
    "l_train, l_test = 320,80\n",
    "train_x, test_x = x[0:l_train,:], x[l_train:,:]\n",
    "train_y, test_y = y[0:l_train], y[l_train:]\n",
    "print(train_x)"
   ]
  },
  {
   "cell_type": "markdown",
   "id": "0f6cce42-f264-4030-bb36-c8e910e9911b",
   "metadata": {},
   "source": [
    "## Training- Batch Gradient Descent"
   ]
  },
  {
   "cell_type": "code",
   "execution_count": 11,
   "id": "9dc8b016-c856-45eb-8665-01e2d6cf5df6",
   "metadata": {},
   "outputs": [],
   "source": [
    "alpha = 0.01\n",
    "parameters = 3\n",
    "theta = np.zeros(parameters+1)\n",
    "prevcost = float('inf')\n",
    "threshold = 1e-6"
   ]
  },
  {
   "cell_type": "code",
   "execution_count": 12,
   "id": "7dc7fe52-fa72-4cc9-9c6d-d13beb46d471",
   "metadata": {},
   "outputs": [],
   "source": [
    "while True:\n",
    "    hypothesis = sigmoid(train_x @ theta)\n",
    "    theta = theta + (alpha / l_train) * (train_x.T @ (train_y - hypothesis))\n",
    "    currcost = (1 / (2 * l_train)) * np.sum(np.square(train_y-hypothesis))\n",
    "    if currcost-prevcost <= threshold:\n",
    "        break\n",
    "    prevcost = currcost"
   ]
  },
  {
   "cell_type": "markdown",
   "id": "fcb74f63-b587-4c01-92f3-7ed399d8760d",
   "metadata": {},
   "source": [
    "## Testing"
   ]
  },
  {
   "cell_type": "code",
   "execution_count": 13,
   "id": "6febd473-73d5-4453-8a33-61390b385d20",
   "metadata": {},
   "outputs": [
    {
     "name": "stdout",
     "output_type": "stream",
     "text": [
      "Test Accuracy: 95.0 %\n"
     ]
    }
   ],
   "source": [
    "test_predictions = sigmoid(test_x @ theta) >= 0.5\n",
    "accuracy = np.mean(test_predictions == test_y) * 100\n",
    "print(\"Test Accuracy:\", accuracy, \"%\")"
   ]
  },
  {
   "cell_type": "code",
   "execution_count": 30,
   "id": "95fc79d0-49ab-4a73-bcef-4195a8a7b152",
   "metadata": {},
   "outputs": [
    {
     "data": {
      "text/plain": [
       "[<matplotlib.lines.Line2D at 0x71e1e31f29c0>]"
      ]
     },
     "execution_count": 30,
     "metadata": {},
     "output_type": "execute_result"
    },
    {
     "data": {
      "image/png": "[encoded data removed]",
      "text/plain": [
       "<Figure size 640x480 with 1 Axes>"
      ]
     },
     "metadata": {},
     "output_type": "display_data"
    }
   ],
   "source": [
    "plt.scatter(train_x[train_y==0][:,2],train_x[train_y==0][:,3],color=\"red\")\n",
    "plt.scatter(train_x[train_y==1][:,2],train_x[train_y==1][:,3],color=\"blue\")\n",
    "\n",
    "x1_min = train_x[:, 2].min()\n",
    "x1_max = train_x[:, 2].max()\n",
    "\n",
    "x2_min = (-theta[2] * x1_min - theta[0]) / theta[3]\n",
    "x2_max = (-theta[2] * x1_max - theta[0]) / theta[3]\n",
    "plt.plot([x1_min, x1_max], [x2_min, x2_max], color=\"black\", lw=5)\n"
   ]
  },
  {
   "cell_type": "code",
   "execution_count": null,
   "id": "86b5b717-6566-4bdd-8a28-f2258fd6eefc",
   "metadata": {},
   "outputs": [],
   "source": []
  }
 ],
 "metadata": {
  "kernelspec": {
   "display_name": "Python 3 (ipykernel)",
   "language": "python",
   "name": "python3"
  },
  "language_info": {
   "codemirror_mode": {
    "name": "ipython",
    "version": 3
   },
   "file_extension": ".py",
   "mimetype": "text/x-python",
   "name": "python",
   "nbconvert_exporter": "python",
   "pygments_lexer": "ipython3",
   "version": "3.12.3"
  }
 },
 "nbformat": 4,
 "nbformat_minor": 5
}
