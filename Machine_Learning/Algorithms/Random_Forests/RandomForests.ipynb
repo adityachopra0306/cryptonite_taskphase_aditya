{
 "cells": [
  {
   "cell_type": "markdown",
   "id": "0cf6a84e-5585-4d80-8a13-83c35f3116df",
   "metadata": {},
   "source": [
    "# Random Forests\n",
    "\n",
    "Random Forest is a powerful **Ensemble Model** that is widely used for both classification and regression tasks. It combines the predictions of multiple decision trees using **Bagging**(Bootstrap Aggregation),  thus reducing variance, i.e. preventing overfitting and improve the accuracy of models.\n",
    "\n",
    "## Bootstrap Sampling\n",
    "Given a dataset $D = \\{(x^1, y^1), (x^2, y^2), ..., (x^m, y^m)\\}$ with $m$ samples and $n$ features for each datapoint $x^i$:\n",
    "- Sample $T$ datasets $D_1, D_2, ..., D_T$ with replacement, each of size $m$.\n",
    "- Each dataset is provided with only $k$ features out of the total $n$ features to prevent correlation amongst the trees. ($k \\ll n$)\n",
    "- Each dataset $D_i$ is used to train a decision tree.\n",
    "\n",
    "The probability of a specific sample being included in a bootstrapped dataset is:\n",
    "$$ P(\\text{not selected}) = \\left(1 - \\frac{1}{m}\\right)^m \\approx \\frac{1}{e} \\approx 0.368 $$\n",
    "\n",
    "Thus, about 36.8% of the samples are **Out-of-Bag** (OOB) for any given tree and can be used as Validation sets.\n",
    "\n",
    "Now, for each dataset, a Decision Tree is created using the limited number of features, out of which the best feature and threshold is selected recursively to create the tree until a stopping condition is met.\n",
    "\n",
    "## Predicting values from the Decision Trees\n",
    "- **For Classification**: Use majority voting(mode) to get the highest frequency class label from the $T$ trees:\n",
    "  $$ \\hat{y} = \\text{mode}(\\hat{y}^1, \\hat{y}^2, ..., \\hat{y}^T) $$\n",
    "- **For Regression**: Take the mean of the predictions from $T$ trees:\n",
    "  $$ \\hat{y} = \\frac{1}{T} \\sum_{i=1}^T \\hat{y}^i $$\n",
    "\n",
    "\n",
    "## Algorithm\n",
    "\n",
    "1. Input: Dataset $D$, number of trees $T$, number of features to select $k$ (Commonly chosen as $\\text{sqrt}(n)$).\n",
    "2. For $t = 1$ to $T$:\n",
    "   - Sample a bootstrapped dataset $D_t$ from $D$.\n",
    "   - Train a decision tree $h_t$ on $D_t$:\n",
    "     - At each node, randomly select $k$ features.\n",
    "     - Split the node based on the best $j$ and $t$. (See DecisionTree.ipynb)\n",
    "   - Store the formed tree $h_t$.\n",
    "3. For a new input $x$, aggregate predictions:\n",
    "   - Classification: Use majority voting across all $T$ trees.\n",
    "   - Regression: Use the average prediction across all $T$ trees.\n",
    "\n",
    "\n",
    "## **Out-of-Bag (OOB) Error**\n",
    "\n",
    "OOB error is an estimate of prediction error based on \"out-of-bag\" samples (samples not included in the bootstrapped dataset for a given tree).\n",
    "\n",
    "For each sample $x^i$:\n",
    "- Aggregate predictions from all trees that did not include $x^i$ in their bootstrapped dataset.\n",
    "- Compare the aggregated prediction with the true label $y^i$."
   ]
  },
  {
   "cell_type": "markdown",
   "id": "a5f7ca46-89c7-45d5-993a-d8af1d360ca9",
   "metadata": {},
   "source": [
    "## Implementation"
   ]
  },
  {
   "cell_type": "markdown",
   "id": "bc2f528d-0353-4e9d-89fb-1e2ae025d06a",
   "metadata": {},
   "source": [
    "### Importing Libraries"
   ]
  },
  {
   "cell_type": "code",
   "execution_count": 1,
   "id": "e3d8f4ce-43cc-423c-bf3a-299864a131d4",
   "metadata": {},
   "outputs": [],
   "source": [
    "import numpy as np\n",
    "import pandas as pd\n",
    "pd.set_option('future.no_silent_downcasting', True)\n",
    "import matplotlib.pyplot as plt\n",
    "%matplotlib inline\n",
    "\n",
    "from scipy.stats import mode\n",
    "\n",
    "from ucimlrepo import fetch_ucirepo \n",
    "from DT_Package.decisiontree import Node, DecisionTree        # Custom Decision Tree package (see DecisionTree.ipynb)"
   ]
  },
  {
   "cell_type": "markdown",
   "id": "eb12cedd-8fda-4f0b-ba1d-44e4e09a4339",
   "metadata": {},
   "source": [
    "### Implementing Random Forest class "
   ]
  },
  {
   "cell_type": "code",
   "execution_count": 2,
   "id": "f3f9868b-62f0-4245-9971-cb1a1fb03ffc",
   "metadata": {},
   "outputs": [],
   "source": [
    "class RF:\n",
    "    def __init__(self, tree_ct=40, max_depth=5):\n",
    "        self.T = tree_ct\n",
    "        self.max_d = max_depth\n",
    "        self.trees = []\n",
    "        self.oobs = []\n",
    "    \n",
    "    def bootstrap(self,X,y):\n",
    "        indices = np.random.choice(X.shape[0], size=X.shape[0], replace=True)\n",
    "        oobs = np.setdiff1d(np.arange(X.shape[0]),indices)\n",
    "        \n",
    "        features = np.random.choice(X.shape[1], size = int(X.shape[1]**0.5), replace=False)\n",
    "        \n",
    "        return indices, features, oobs\n",
    "\n",
    "    def train(self, X, y):\n",
    "        for i in range(self.T):\n",
    "            indices, features, oob = self.bootstrap(X,y)\n",
    "            X_train = X[indices,:][:, features]\n",
    "            y_train = y[indices]\n",
    "            \n",
    "            tree = DecisionTree(max_depth=self.max_d)\n",
    "            tree.train(X_train, y_train)\n",
    "\n",
    "            self.trees.append((tree, features))\n",
    "            self.oobs.append(set(oob))\n",
    "    \n",
    "    def predict_single(self, x):\n",
    "        predictions = []\n",
    "        for tree, features in self.trees:\n",
    "            predictions.append(tree.predict_single(x[features], tree.root))\n",
    "        return mode(predictions)[0]\n",
    "\n",
    "    def predict(self, X):\n",
    "        return np.array([self.predict_single(x) for x in X])\n",
    "\n",
    "    def oob_score(self, X, y):\n",
    "        score = 0\n",
    "        for i in range(X.shape[0]):\n",
    "            predictions = []\n",
    "            for j, (tree, features) in enumerate(self.trees):\n",
    "                if (i in self.oobs[j]):\n",
    "                    predictions.append(tree.predict_single(X[:,features][i], tree.root))\n",
    "            ans = mode(predictions)[0]\n",
    "\n",
    "            score += 1 if (ans == y[i]) else 0\n",
    "        return score/X.shape[0]\n",
    "            \n",
    "    "
   ]
  },
  {
   "cell_type": "markdown",
   "id": "69f40cd2-4818-421f-8d87-c1cabdb514ee",
   "metadata": {},
   "source": [
    "### Loading and Pre-Processing Data"
   ]
  },
  {
   "cell_type": "code",
   "execution_count": 3,
   "id": "4a2c8e93-72d3-4672-969b-20aab371e4e4",
   "metadata": {},
   "outputs": [
    {
     "data": {
      "text/html": [
       "<div>\n",
       "<style scoped>\n",
       "    .dataframe tbody tr th:only-of-type {\n",
       "        vertical-align: middle;\n",
       "    }\n",
       "\n",
       "    .dataframe tbody tr th {\n",
       "        vertical-align: top;\n",
       "    }\n",
       "\n",
       "    .dataframe thead th {\n",
       "        text-align: right;\n",
       "    }\n",
       "</style>\n",
       "<table border=\"1\" class=\"dataframe\">\n",
       "  <thead>\n",
       "    <tr style=\"text-align: right;\">\n",
       "      <th></th>\n",
       "      <th>sepal length</th>\n",
       "      <th>sepal width</th>\n",
       "      <th>petal length</th>\n",
       "      <th>petal width</th>\n",
       "      <th>class</th>\n",
       "    </tr>\n",
       "  </thead>\n",
       "  <tbody>\n",
       "    <tr>\n",
       "      <th>0</th>\n",
       "      <td>5.1</td>\n",
       "      <td>3.5</td>\n",
       "      <td>1.4</td>\n",
       "      <td>0.2</td>\n",
       "      <td>0</td>\n",
       "    </tr>\n",
       "    <tr>\n",
       "      <th>1</th>\n",
       "      <td>4.9</td>\n",
       "      <td>3.0</td>\n",
       "      <td>1.4</td>\n",
       "      <td>0.2</td>\n",
       "      <td>0</td>\n",
       "    </tr>\n",
       "    <tr>\n",
       "      <th>2</th>\n",
       "      <td>4.7</td>\n",
       "      <td>3.2</td>\n",
       "      <td>1.3</td>\n",
       "      <td>0.2</td>\n",
       "      <td>0</td>\n",
       "    </tr>\n",
       "    <tr>\n",
       "      <th>3</th>\n",
       "      <td>4.6</td>\n",
       "      <td>3.1</td>\n",
       "      <td>1.5</td>\n",
       "      <td>0.2</td>\n",
       "      <td>0</td>\n",
       "    </tr>\n",
       "    <tr>\n",
       "      <th>4</th>\n",
       "      <td>5.0</td>\n",
       "      <td>3.6</td>\n",
       "      <td>1.4</td>\n",
       "      <td>0.2</td>\n",
       "      <td>0</td>\n",
       "    </tr>\n",
       "    <tr>\n",
       "      <th>...</th>\n",
       "      <td>...</td>\n",
       "      <td>...</td>\n",
       "      <td>...</td>\n",
       "      <td>...</td>\n",
       "      <td>...</td>\n",
       "    </tr>\n",
       "    <tr>\n",
       "      <th>145</th>\n",
       "      <td>6.7</td>\n",
       "      <td>3.0</td>\n",
       "      <td>5.2</td>\n",
       "      <td>2.3</td>\n",
       "      <td>2</td>\n",
       "    </tr>\n",
       "    <tr>\n",
       "      <th>146</th>\n",
       "      <td>6.3</td>\n",
       "      <td>2.5</td>\n",
       "      <td>5.0</td>\n",
       "      <td>1.9</td>\n",
       "      <td>2</td>\n",
       "    </tr>\n",
       "    <tr>\n",
       "      <th>147</th>\n",
       "      <td>6.5</td>\n",
       "      <td>3.0</td>\n",
       "      <td>5.2</td>\n",
       "      <td>2.0</td>\n",
       "      <td>2</td>\n",
       "    </tr>\n",
       "    <tr>\n",
       "      <th>148</th>\n",
       "      <td>6.2</td>\n",
       "      <td>3.4</td>\n",
       "      <td>5.4</td>\n",
       "      <td>2.3</td>\n",
       "      <td>2</td>\n",
       "    </tr>\n",
       "    <tr>\n",
       "      <th>149</th>\n",
       "      <td>5.9</td>\n",
       "      <td>3.0</td>\n",
       "      <td>5.1</td>\n",
       "      <td>1.8</td>\n",
       "      <td>2</td>\n",
       "    </tr>\n",
       "  </tbody>\n",
       "</table>\n",
       "<p>150 rows × 5 columns</p>\n",
       "</div>"
      ],
      "text/plain": [
       "     sepal length  sepal width  petal length  petal width class\n",
       "0             5.1          3.5           1.4          0.2     0\n",
       "1             4.9          3.0           1.4          0.2     0\n",
       "2             4.7          3.2           1.3          0.2     0\n",
       "3             4.6          3.1           1.5          0.2     0\n",
       "4             5.0          3.6           1.4          0.2     0\n",
       "..            ...          ...           ...          ...   ...\n",
       "145           6.7          3.0           5.2          2.3     2\n",
       "146           6.3          2.5           5.0          1.9     2\n",
       "147           6.5          3.0           5.2          2.0     2\n",
       "148           6.2          3.4           5.4          2.3     2\n",
       "149           5.9          3.0           5.1          1.8     2\n",
       "\n",
       "[150 rows x 5 columns]"
      ]
     },
     "execution_count": 3,
     "metadata": {},
     "output_type": "execute_result"
    }
   ],
   "source": [
    "iris = fetch_ucirepo(id=53) \n",
    "\n",
    "df = pd.concat([iris.data.features,iris.data.targets],axis=1).replace({'Iris-setosa':0,'Iris-versicolor':1,'Iris-virginica':2})\n",
    "df"
   ]
  },
  {
   "cell_type": "code",
   "execution_count": 4,
   "id": "fe616842-2d54-424e-b3c0-56cea4a46ce1",
   "metadata": {},
   "outputs": [],
   "source": [
    "dat = df.to_numpy()\n",
    "\n",
    "np.random.shuffle(dat)\n",
    "X = dat[:100,:-1]\n",
    "y = dat[:100,-1].astype(int)\n",
    "y_test = dat[100:,-1].astype(int)\n",
    "X_test = dat[100:,:-1]"
   ]
  },
  {
   "cell_type": "markdown",
   "id": "35230f3c-7133-4f03-9e65-158940fb894f",
   "metadata": {},
   "source": [
    "### Using Random Forest Class to find OOB Score"
   ]
  },
  {
   "cell_type": "code",
   "execution_count": 5,
   "id": "d7151cc9-834e-42f3-875b-77b38c68b36a",
   "metadata": {},
   "outputs": [
    {
     "name": "stdout",
     "output_type": "stream",
     "text": [
      "OOB Score: 93.0 %\n"
     ]
    }
   ],
   "source": [
    "rf = RF(tree_ct=40, max_depth=5)\n",
    "rf.train(X, y)\n",
    "predictions = rf.predict(X)\n",
    "\n",
    "oob = rf.oob_score(X, y)\n",
    "print(\"OOB Score: \"+str(oob*100)+\" %\")"
   ]
  },
  {
   "cell_type": "markdown",
   "id": "380349f0-7ed5-4cc9-93d5-c6c5451b1034",
   "metadata": {},
   "source": [
    "### Testing Final Accuracy of Model"
   ]
  },
  {
   "cell_type": "code",
   "execution_count": 6,
   "id": "14afe62f-4178-4ca0-ab1b-e5e0f5fc3b0d",
   "metadata": {},
   "outputs": [
    {
     "name": "stdout",
     "output_type": "stream",
     "text": [
      "Test Accuracy:  92.0 %\n"
     ]
    }
   ],
   "source": [
    "predictions = rf.predict(X_test)\n",
    "acc = np.sum(predictions==y_test)*100/y_test.shape[0]\n",
    "print(\"Test Accuracy: \", acc,\"%\")"
   ]
  }
 ],
 "metadata": {
  "kernelspec": {
   "display_name": "Python 3 (ipykernel)",
   "language": "python",
   "name": "python3"
  },
  "language_info": {
   "codemirror_mode": {
    "name": "ipython",
    "version": 3
   },
   "file_extension": ".py",
   "mimetype": "text/x-python",
   "name": "python",
   "nbconvert_exporter": "python",
   "pygments_lexer": "ipython3",
   "version": "3.12.3"
  }
 },
 "nbformat": 4,
 "nbformat_minor": 5
}
