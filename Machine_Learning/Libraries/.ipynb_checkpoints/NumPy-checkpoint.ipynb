{
 "cells": [
  {
   "cell_type": "markdown",
   "id": "7d7a976a-132f-4f86-b094-bc006a7e8b7c",
   "metadata": {},
   "source": [
    "# NumPy\n",
    "\n",
    "NumPy (Numerical Python) is a powerful library in Python for numerical and matrix computations, making it essential for data science, machine learning, and scientific computing. It provides support for large, multi-dimensional arrays and matrices, along with a large collection of mathematical functions and operations.\n",
    "\n",
    "## Features\n",
    "\n",
    "- **Efficient Array Computations**: Enables fast operations on arrays and matrices,\n",
    "- **Broadcasting**: Allows operations on arrays of different shapes, and\n",
    "- **Linear Algebra, Fourier Transform, and Random Number Generation**."
   ]
  },
  {
   "cell_type": "markdown",
   "id": "19692c44-6d2b-49a1-bc53-61d93952dbe0",
   "metadata": {},
   "source": [
    "The NumPy library needs to be installed through pip, after which it can be imported into a python project"
   ]
  },
  {
   "cell_type": "code",
   "execution_count": 1,
   "id": "89c18452-98b9-4286-9a95-47df16f65497",
   "metadata": {},
   "outputs": [],
   "source": [
    "import numpy as np"
   ]
  },
  {
   "cell_type": "markdown",
   "id": "9b88bcff-61f1-4bf2-8caa-0d495df643d7",
   "metadata": {},
   "source": [
    "## Creating Arrays"
   ]
  },
  {
   "cell_type": "markdown",
   "id": "022769b7-8dd2-4eef-b788-0a1545bb6e1b",
   "metadata": {},
   "source": [
    "### 1. From a Python list"
   ]
  },
  {
   "cell_type": "code",
   "execution_count": 2,
   "id": "fd54ae99-aa82-4d12-9f00-eaa430bd3231",
   "metadata": {},
   "outputs": [
    {
     "data": {
      "text/plain": [
       "array([0, 1, 2, 3, 4, 5, 6, 7, 8, 9])"
      ]
     },
     "execution_count": 2,
     "metadata": {},
     "output_type": "execute_result"
    }
   ],
   "source": [
    "np.array([0,1,2,3,4,5,6,7,8,9])"
   ]
  },
  {
   "cell_type": "code",
   "execution_count": 3,
   "id": "345a7c7b-ae74-4463-8365-b27fbc58828d",
   "metadata": {},
   "outputs": [],
   "source": [
    "npn = np.array([[1,2,3],[4,5,6],[7,8,9]])"
   ]
  },
  {
   "cell_type": "markdown",
   "id": "e62b3204-3886-4c30-b1cd-38d659d345ef",
   "metadata": {},
   "source": [
    " "
   ]
  },
  {
   "cell_type": "markdown",
   "id": "d0e0e0f4-8a9f-47cd-9c1f-1c3e87af7ac7",
   "metadata": {},
   "source": [
    "### 2. Within a given range"
   ]
  },
  {
   "cell_type": "code",
   "execution_count": 4,
   "id": "8b9992e8-a6c8-4318-8860-1eab5094337b",
   "metadata": {},
   "outputs": [
    {
     "data": {
      "text/plain": [
       "array([1, 3, 5, 7, 9])"
      ]
     },
     "execution_count": 4,
     "metadata": {},
     "output_type": "execute_result"
    }
   ],
   "source": [
    "np.arange(1,10,2)"
   ]
  },
  {
   "cell_type": "markdown",
   "id": "45772893-31e3-4f00-9455-dab75100edf5",
   "metadata": {},
   "source": [
    " "
   ]
  },
  {
   "cell_type": "markdown",
   "id": "82d59f7e-7147-4de2-9d21-8df00665533f",
   "metadata": {},
   "source": [
    "### 3. Zeros and Ones"
   ]
  },
  {
   "cell_type": "code",
   "execution_count": 5,
   "id": "7c05a6d6-6e0b-47d7-bbe3-596511210a46",
   "metadata": {},
   "outputs": [
    {
     "data": {
      "text/plain": [
       "array([1., 1., 1., 1., 1., 1., 1., 1., 1., 1., 1., 1., 1., 1., 1., 1., 1.,\n",
       "       1., 1., 1.])"
      ]
     },
     "execution_count": 5,
     "metadata": {},
     "output_type": "execute_result"
    }
   ],
   "source": [
    "np.zeros(15)\n",
    "np.ones(20)"
   ]
  },
  {
   "cell_type": "code",
   "execution_count": 6,
   "id": "2bec65f1-86d1-415d-822c-28c62df60014",
   "metadata": {},
   "outputs": [
    {
     "data": {
      "text/plain": [
       "array([[0., 0., 0.],\n",
       "       [0., 0., 0.],\n",
       "       [0., 0., 0.]])"
      ]
     },
     "execution_count": 6,
     "metadata": {},
     "output_type": "execute_result"
    }
   ],
   "source": [
    "np.zeros((3,3))"
   ]
  },
  {
   "cell_type": "markdown",
   "id": "4ea79bed-836e-4a0c-9f5f-245f5cd91ec3",
   "metadata": {},
   "source": [
    "### 3. Constant Value Array"
   ]
  },
  {
   "cell_type": "code",
   "execution_count": 7,
   "id": "fba76baa-9dcd-4d33-a4d9-336d38479d73",
   "metadata": {},
   "outputs": [
    {
     "data": {
      "text/plain": [
       "array([[9, 9, 9],\n",
       "       [9, 9, 9],\n",
       "       [9, 9, 9]])"
      ]
     },
     "execution_count": 7,
     "metadata": {},
     "output_type": "execute_result"
    }
   ],
   "source": [
    "np.full((3,3),9)"
   ]
  },
  {
   "cell_type": "markdown",
   "id": "05ded6a4-2878-4381-bc0f-23811b649bc6",
   "metadata": {},
   "source": [
    "### 4. Identity Matrix"
   ]
  },
  {
   "cell_type": "code",
   "execution_count": 8,
   "id": "fda2eee4-8907-4f77-9d35-98141cd8cbfd",
   "metadata": {},
   "outputs": [
    {
     "data": {
      "text/plain": [
       "array([[1., 0., 0.],\n",
       "       [0., 1., 0.],\n",
       "       [0., 0., 1.]])"
      ]
     },
     "execution_count": 8,
     "metadata": {},
     "output_type": "execute_result"
    }
   ],
   "source": [
    "np.eye(3)"
   ]
  },
  {
   "cell_type": "markdown",
   "id": "ae90f0b6-b491-4fba-848d-57a7b557951c",
   "metadata": {},
   "source": [
    "### 5. Linspace"
   ]
  },
  {
   "cell_type": "code",
   "execution_count": 9,
   "id": "da5f5abd-285d-4828-bc40-15ba9ada861c",
   "metadata": {},
   "outputs": [
    {
     "data": {
      "text/plain": [
       "array([0.  , 0.25, 0.5 , 0.75, 1.  ])"
      ]
     },
     "execution_count": 9,
     "metadata": {},
     "output_type": "execute_result"
    }
   ],
   "source": [
    "np.linspace(0,1,5)"
   ]
  },
  {
   "cell_type": "markdown",
   "id": "1fd9619a-2473-4f1d-bd0b-0eb2fd79f075",
   "metadata": {},
   "source": [
    "### 6. Random Integers"
   ]
  },
  {
   "cell_type": "code",
   "execution_count": 10,
   "id": "2e30103d-d989-477a-bfd9-03e8757c1746",
   "metadata": {},
   "outputs": [
    {
     "data": {
      "text/plain": [
       "array([[14, 17, 12],\n",
       "       [ 3,  5,  3],\n",
       "       [14,  3, 19]])"
      ]
     },
     "execution_count": 10,
     "metadata": {},
     "output_type": "execute_result"
    }
   ],
   "source": [
    "np.random.randint(1,20,(3,3))"
   ]
  },
  {
   "cell_type": "markdown",
   "id": "bbca5236-964b-4bd7-b2b7-86420fddc16e",
   "metadata": {},
   "source": [
    "### 7. Uniform Distribution"
   ]
  },
  {
   "cell_type": "code",
   "execution_count": 11,
   "id": "ef5171cc-b6ed-44f6-9dfb-1c21ee225546",
   "metadata": {},
   "outputs": [
    {
     "data": {
      "text/plain": [
       "array([[0.12488042, 0.82736202, 0.209198  ],\n",
       "       [0.08980869, 0.68828787, 0.88105102]])"
      ]
     },
     "execution_count": 11,
     "metadata": {},
     "output_type": "execute_result"
    }
   ],
   "source": [
    "np.random.rand(2,3)"
   ]
  },
  {
   "cell_type": "markdown",
   "id": "1c9fadc4-d58d-4f3a-b45e-a1f10ecd8fe1",
   "metadata": {},
   "source": [
    "### 8. Normal Distribution"
   ]
  },
  {
   "cell_type": "code",
   "execution_count": 12,
   "id": "a2a5475a-bd0d-4c65-93e7-d1edeacc48bf",
   "metadata": {},
   "outputs": [
    {
     "data": {
      "text/plain": [
       "array([[-0.91370026,  0.10140186,  1.55363589],\n",
       "       [ 0.27070123, -0.56710342,  1.03802025]])"
      ]
     },
     "execution_count": 12,
     "metadata": {},
     "output_type": "execute_result"
    }
   ],
   "source": [
    "np.random.randn(2,3)"
   ]
  },
  {
   "cell_type": "markdown",
   "id": "70869b99-54aa-486a-ac90-f13479d17d70",
   "metadata": {},
   "source": [
    "### 9. Diagonal Matrix"
   ]
  },
  {
   "cell_type": "code",
   "execution_count": 13,
   "id": "fe429212-f684-40ec-989b-c1df934272ec",
   "metadata": {},
   "outputs": [
    {
     "data": {
      "text/plain": [
       "array([[1, 0, 0],\n",
       "       [0, 2, 0],\n",
       "       [0, 0, 3]])"
      ]
     },
     "execution_count": 13,
     "metadata": {},
     "output_type": "execute_result"
    }
   ],
   "source": [
    "np.diag([1,2,3])"
   ]
  },
  {
   "cell_type": "markdown",
   "id": "01e77da0-05b7-4fdb-968b-ce0d1e8192cf",
   "metadata": {},
   "source": [
    "## Array Operations"
   ]
  },
  {
   "cell_type": "markdown",
   "id": "8bc96c64-5624-444d-9faa-49b6554d223f",
   "metadata": {},
   "source": [
    "### 1. Accessing Elements"
   ]
  },
  {
   "cell_type": "code",
   "execution_count": 14,
   "id": "6ed70ae4-a822-4afc-9152-335d21dc1cf1",
   "metadata": {},
   "outputs": [
    {
     "name": "stdout",
     "output_type": "stream",
     "text": [
      "6\n"
     ]
    }
   ],
   "source": [
    "np1 = np.array([\n",
    "    [1,2,3],\n",
    "    [4,5,6],\n",
    "    [7,8,9]])\n",
    "print(np1[1,2])"
   ]
  },
  {
   "cell_type": "markdown",
   "id": "cb6d9e1b-cda8-4290-b32d-e48e9b3b3edd",
   "metadata": {},
   "source": [
    "### 2. Slicing"
   ]
  },
  {
   "cell_type": "code",
   "execution_count": 15,
   "id": "6edd93e6-2fad-4f33-8c02-80fac4d033f9",
   "metadata": {},
   "outputs": [
    {
     "name": "stdout",
     "output_type": "stream",
     "text": [
      "[[7 8 9]]\n"
     ]
    }
   ],
   "source": [
    "#Slice one-dimensional array\n",
    "print(np1[2:9:2])"
   ]
  },
  {
   "cell_type": "code",
   "execution_count": 16,
   "id": "6a4a7bc9-0bac-4836-b7bb-714e1fcc9428",
   "metadata": {},
   "outputs": [
    {
     "name": "stdout",
     "output_type": "stream",
     "text": [
      "[[2 3]\n",
      " [5 6]]\n"
     ]
    }
   ],
   "source": [
    "#Slicing multidimensional array\n",
    "npn = np.arange(1,10,1).reshape(3,3)\n",
    "print(npn[0:2, 1:3])"
   ]
  },
  {
   "cell_type": "markdown",
   "id": "57c26b04-0f8b-4206-be91-8f9ba4bea69c",
   "metadata": {},
   "source": [
    "### 3. Mathematical operations"
   ]
  },
  {
   "cell_type": "code",
   "execution_count": 17,
   "id": "5e5a8c4b-e3fd-4d98-9665-ac0853f933e8",
   "metadata": {},
   "outputs": [
    {
     "name": "stdout",
     "output_type": "stream",
     "text": [
      "[[1.         1.41421356 1.73205081]\n",
      " [2.         2.23606798 2.44948974]\n",
      " [2.64575131 2.82842712 3.        ]]\n"
     ]
    }
   ],
   "source": [
    "#Square root each element\n",
    "print(np.sqrt(np1))"
   ]
  },
  {
   "cell_type": "code",
   "execution_count": 18,
   "id": "f2b07570-8fc7-4bc5-bd04-48d513a149f3",
   "metadata": {},
   "outputs": [
    {
     "name": "stdout",
     "output_type": "stream",
     "text": [
      "[[2.71828183e+00 7.38905610e+00 2.00855369e+01]\n",
      " [5.45981500e+01 1.48413159e+02 4.03428793e+02]\n",
      " [1.09663316e+03 2.98095799e+03 8.10308393e+03]]\n"
     ]
    }
   ],
   "source": [
    "#Exponents\n",
    "print(np.exp(np1))"
   ]
  },
  {
   "cell_type": "code",
   "execution_count": 19,
   "id": "ee8f2fb9-2739-4491-8b9c-ba8cc3d29d36",
   "metadata": {},
   "outputs": [
    {
     "data": {
      "text/plain": [
       "array([-10,   6,  -7,   8,  -3,  -3,   2,   1,  -6,   2])"
      ]
     },
     "execution_count": 19,
     "metadata": {},
     "output_type": "execute_result"
    }
   ],
   "source": [
    "npr = np.random.randint(-10,11,(10,))\n",
    "npr"
   ]
  },
  {
   "cell_type": "code",
   "execution_count": 20,
   "id": "607ad7cc-4cb3-4374-8808-5d427c31136e",
   "metadata": {},
   "outputs": [
    {
     "name": "stdout",
     "output_type": "stream",
     "text": [
      "[-1  1 -1  1 -1 -1  1  1 -1  1]\n"
     ]
    }
   ],
   "source": [
    "#Signum Function\n",
    "print(np.sign(npr))"
   ]
  },
  {
   "cell_type": "code",
   "execution_count": 21,
   "id": "da725042-0b2e-4383-bde8-376a28387bc6",
   "metadata": {},
   "outputs": [
    {
     "name": "stdout",
     "output_type": "stream",
     "text": [
      "[ 0.54402111 -0.2794155  -0.6569866   0.98935825 -0.14112001 -0.14112001\n",
      "  0.90929743  0.84147098  0.2794155   0.90929743]\n",
      "\n",
      "[-0.83907153  0.96017029  0.75390225 -0.14550003 -0.9899925  -0.9899925\n",
      " -0.41614684  0.54030231  0.96017029 -0.41614684]\n",
      "\n",
      "[-0.64836083 -0.29100619 -0.87144798 -6.79971146  0.14254654  0.14254654\n",
      " -2.18503986  1.55740772  0.29100619 -2.18503986]\n",
      "\n",
      "[[0.         0.69314718 1.09861229]\n",
      " [1.38629436 1.60943791 1.79175947]\n",
      " [1.94591015 2.07944154 2.19722458]]\n",
      "\n"
     ]
    }
   ],
   "source": [
    "#Trigonometry and Logarithms\n",
    "print(np.sin(npr), end = '\\n\\n')\n",
    "print(np.cos(npr), end = '\\n\\n')\n",
    "print(np.tan(npr), end = '\\n\\n')\n",
    "print(np.log(np1), end = '\\n\\n')"
   ]
  },
  {
   "cell_type": "code",
   "execution_count": 22,
   "id": "2a4d2b19-2b3e-401f-a7e7-c36304ecf6cd",
   "metadata": {},
   "outputs": [
    {
     "name": "stdout",
     "output_type": "stream",
     "text": [
      "[[11 12 13]\n",
      " [14 15 16]\n",
      " [17 18 19]]\n",
      "\n",
      "[[ 9 18 27]\n",
      " [36 45 54]\n",
      " [63 72 81]]\n",
      "\n",
      "[[10 20 30]\n",
      " [40 50 60]\n",
      " [70 80 90]]\n",
      "\n",
      "[[0.1 0.2 0.3]\n",
      " [0.4 0.5 0.6]\n",
      " [0.7 0.8 0.9]]\n",
      "\n"
     ]
    }
   ],
   "source": [
    "#Add Subtract Multiply Divide element-wise\n",
    "print((np1 + 10), end= \"\\n\\n\")  #Broadcasts [10] to shape (3,3)\n",
    "print(np.subtract(np.array([[10,20,30],[40,50,60],[70,80,90]]),np1), end= \"\\n\\n\")\n",
    "print((np1 * np.array([10])), end= \"\\n\\n\")\n",
    "print(np.divide(np1,np.array([10])), end= \"\\n\\n\")"
   ]
  },
  {
   "cell_type": "markdown",
   "id": "de3f0e8e-701c-43a2-a875-abe2bbec2c28",
   "metadata": {},
   "source": [
    "### 4. Statistical Operations"
   ]
  },
  {
   "cell_type": "code",
   "execution_count": 23,
   "id": "68a0e69f",
   "metadata": {},
   "outputs": [
    {
     "data": {
      "text/plain": [
       "array([  5,  -2,  -1,  -7,   2,   5,  -8,   7, -10,   3])"
      ]
     },
     "execution_count": 23,
     "metadata": {},
     "output_type": "execute_result"
    }
   ],
   "source": [
    "npr = np.random.randint(-10,11,(10,))\n",
    "npr"
   ]
  },
  {
   "cell_type": "code",
   "execution_count": 24,
   "id": "7918e900-39d9-4b29-b838-f22d62f8ad81",
   "metadata": {},
   "outputs": [
    {
     "name": "stdout",
     "output_type": "stream",
     "text": [
      "-10\n",
      "7\n"
     ]
    }
   ],
   "source": [
    "#Min and Max\n",
    "print(np.min(npr))\n",
    "print(np.max(npr))"
   ]
  },
  {
   "cell_type": "code",
   "execution_count": 25,
   "id": "0765f1ca-8cb9-42e7-85ef-4b8542360acf",
   "metadata": {},
   "outputs": [
    {
     "name": "stdout",
     "output_type": "stream",
     "text": [
      "-6\n"
     ]
    }
   ],
   "source": [
    "#Sum\n",
    "print(np.sum(npr))"
   ]
  },
  {
   "cell_type": "code",
   "execution_count": 26,
   "id": "a49ea706-485f-4fa8-b421-684c9b848776",
   "metadata": {},
   "outputs": [
    {
     "name": "stdout",
     "output_type": "stream",
     "text": [
      "-0.6\n",
      "0.5\n",
      "5.71314274283428\n",
      "32.64\n"
     ]
    }
   ],
   "source": [
    "#Mean, Median, Standard Deviation, Variance\n",
    "print(np.mean(npr))\n",
    "print(np.median(npr))\n",
    "print(np.std(npr))\n",
    "print(np.var(npr))"
   ]
  },
  {
   "cell_type": "markdown",
   "id": "f5f513a8-f637-4363-9350-8dbc2872cd36",
   "metadata": {},
   "source": [
    "### 5. Matrix Operations"
   ]
  },
  {
   "cell_type": "code",
   "execution_count": 27,
   "id": "4bab9af5-a470-4d4c-855d-0054f37106b4",
   "metadata": {},
   "outputs": [
    {
     "name": "stdout",
     "output_type": "stream",
     "text": [
      "[ 1  2  3  4  5  6  7  8  9 10]\n",
      "[20 18 16 14 12 10  8  6  4  2]\n",
      "440\n"
     ]
    }
   ],
   "source": [
    "#Dot Product\n",
    "a = np.arange(1,11)\n",
    "b = np.arange(20,0,-2)\n",
    "print(a)\n",
    "print(b)\n",
    "print(np.dot(a,b))"
   ]
  },
  {
   "cell_type": "code",
   "execution_count": 28,
   "id": "7fc45083-b92f-464f-bd04-5d993027b026",
   "metadata": {},
   "outputs": [
    {
     "name": "stdout",
     "output_type": "stream",
     "text": [
      "[[ 1  2  3  4  5]\n",
      " [ 6  7  8  9 10]]\n",
      "\n",
      "[[20 18]\n",
      " [16 14]\n",
      " [12 10]\n",
      " [ 8  6]\n",
      " [ 4  2]]\n",
      "\n",
      "[[140 110]\n",
      " [440 360]]\n"
     ]
    }
   ],
   "source": [
    "#Matrix Multiplication\n",
    "a = a.reshape(2,5)\n",
    "b = b.reshape(5,2)\n",
    "print(a, end=\"\\n\\n\")\n",
    "print(b, end=\"\\n\\n\")\n",
    "print(a@b)"
   ]
  },
  {
   "cell_type": "markdown",
   "id": "93e2b8f5-20b5-4b18-98b8-b192de0ef31d",
   "metadata": {},
   "source": [
    "### 6. Linear Algebra"
   ]
  },
  {
   "cell_type": "code",
   "execution_count": 29,
   "id": "ecded799-4366-423a-a2a2-4aee32fc7b70",
   "metadata": {},
   "outputs": [],
   "source": [
    "a = np.array([\n",
    "    [1,2],\n",
    "    [3,4]])\n",
    "b = np.array([5,6])"
   ]
  },
  {
   "cell_type": "code",
   "execution_count": 30,
   "id": "95a17750-ea37-4d48-bf5a-88dfe6bf77e7",
   "metadata": {},
   "outputs": [
    {
     "name": "stdout",
     "output_type": "stream",
     "text": [
      "5\n"
     ]
    }
   ],
   "source": [
    "#Trace of Matrix\n",
    "print(np.trace(a))"
   ]
  },
  {
   "cell_type": "code",
   "execution_count": 31,
   "id": "f78f42b8-0743-4ac2-bfa3-e1e38eef0c24",
   "metadata": {},
   "outputs": [
    {
     "name": "stdout",
     "output_type": "stream",
     "text": [
      "5.477225575051661\n"
     ]
    }
   ],
   "source": [
    "#Norm of Matrix\n",
    "print(np.linalg.norm(a))"
   ]
  },
  {
   "cell_type": "code",
   "execution_count": 32,
   "id": "9dbec3df-80c1-470b-88ce-4f5e9ce5c1e0",
   "metadata": {},
   "outputs": [
    {
     "name": "stdout",
     "output_type": "stream",
     "text": [
      "-2.0000000000000004\n"
     ]
    }
   ],
   "source": [
    "#Determinant of Matrix\n",
    "print(np.linalg.det(a))"
   ]
  },
  {
   "cell_type": "code",
   "execution_count": 33,
   "id": "6e29aa16-fcfd-43f9-a88a-6c9c9838e963",
   "metadata": {},
   "outputs": [
    {
     "name": "stdout",
     "output_type": "stream",
     "text": [
      "[[-2.   1. ]\n",
      " [ 1.5 -0.5]]\n"
     ]
    }
   ],
   "source": [
    "#Inverse of Matrix\n",
    "print(np.linalg.inv(a))"
   ]
  },
  {
   "cell_type": "code",
   "execution_count": 34,
   "id": "37735fa2-68ad-4101-9436-d65b6b0e2bd8",
   "metadata": {},
   "outputs": [
    {
     "name": "stdout",
     "output_type": "stream",
     "text": [
      "[-4.   4.5]\n"
     ]
    }
   ],
   "source": [
    "#Solving System of Linear Equations\n",
    "print(np.linalg.solve(a,b))"
   ]
  },
  {
   "cell_type": "markdown",
   "id": "d5cec880-336e-48f3-8280-11239e6b1f78",
   "metadata": {},
   "source": [
    "### 7. Copying and Viewing"
   ]
  },
  {
   "cell_type": "code",
   "execution_count": 35,
   "id": "5ce75021-116c-4bca-8abe-2503e32b814e",
   "metadata": {},
   "outputs": [
    {
     "name": "stdout",
     "output_type": "stream",
     "text": [
      "[[1000 1000 1000]\n",
      " [   4    5    6]\n",
      " [   7    8    9]]\n"
     ]
    }
   ],
   "source": [
    "#Default (Numpy view)\n",
    "np2 = np1\n",
    "np2[0] = 1000\n",
    "print(np1)"
   ]
  },
  {
   "cell_type": "code",
   "execution_count": 36,
   "id": "8845deff-c394-4831-8327-93353d403d87",
   "metadata": {},
   "outputs": [
    {
     "name": "stdout",
     "output_type": "stream",
     "text": [
      "[[0 0 0]\n",
      " [4 5 6]\n",
      " [7 8 9]]\n"
     ]
    }
   ],
   "source": [
    "#View\n",
    "np3 = np1.view()\n",
    "np3[0]=0\n",
    "print(np1)"
   ]
  },
  {
   "cell_type": "code",
   "execution_count": 37,
   "id": "9ab0ebed-773d-46ed-87fd-28c7cd96ae55",
   "metadata": {},
   "outputs": [
    {
     "name": "stdout",
     "output_type": "stream",
     "text": [
      "[[0 0 0]\n",
      " [4 5 6]\n",
      " [7 8 9]]\n",
      "[[1000 1000 1000]\n",
      " [   4    5    6]\n",
      " [   7    8    9]]\n"
     ]
    }
   ],
   "source": [
    "#Copy\n",
    "np2 = np1.copy()\n",
    "np2[0]=1000\n",
    "print(np1)\n",
    "print(np2)"
   ]
  },
  {
   "cell_type": "markdown",
   "id": "3f8050cd-eaca-47e3-b636-8cdcbd72118d",
   "metadata": {},
   "source": [
    "## Array Manipulation"
   ]
  },
  {
   "cell_type": "code",
   "execution_count": 38,
   "id": "ccf8b2e6-4f9b-4975-b3cd-d8059c738384",
   "metadata": {},
   "outputs": [
    {
     "name": "stdout",
     "output_type": "stream",
     "text": [
      "[[10 11 12 13 14]\n",
      " [15 16 17 18 19]]\n",
      "\n",
      "[10 11 12 13 14 15 16 17 18 19]\n"
     ]
    }
   ],
   "source": [
    "#Reshape Array\n",
    "npn = np.arange(10,20).reshape(2,5)\n",
    "print(npn, end = \"\\n\\n\")\n",
    "\n",
    "npn = npn.reshape(-1) #Flattens the array (ALTERNATIVE: npn.flatten())\n",
    "print(npn)\n",
    "\n",
    "npn = npn.reshape(2,5)"
   ]
  },
  {
   "cell_type": "code",
   "execution_count": 39,
   "id": "696ad474-b0a2-4e8c-9871-db6fd0701b80",
   "metadata": {},
   "outputs": [
    {
     "name": "stdout",
     "output_type": "stream",
     "text": [
      "[[10 15]\n",
      " [11 16]\n",
      " [12 17]\n",
      " [13 18]\n",
      " [14 19]]\n"
     ]
    }
   ],
   "source": [
    "#Transposing Array\n",
    "npn = npn.T\n",
    "print(npn)"
   ]
  },
  {
   "cell_type": "code",
   "execution_count": 40,
   "id": "52a0bad5-013d-40df-8fa8-03751b6bc166",
   "metadata": {},
   "outputs": [
    {
     "name": "stdout",
     "output_type": "stream",
     "text": [
      "10\n",
      "11\n",
      "12\n",
      "13\n",
      "14\n",
      "15\n",
      "16\n",
      "17\n",
      "18\n",
      "19\n"
     ]
    }
   ],
   "source": [
    "#Iterating through Array\n",
    "for x in np.nditer(npn):\n",
    "    print(x)"
   ]
  },
  {
   "cell_type": "code",
   "execution_count": 41,
   "id": "146bf383-66b5-44d5-973a-10591adfa6ce",
   "metadata": {},
   "outputs": [
    {
     "name": "stdout",
     "output_type": "stream",
     "text": [
      "[  5  -2  -1  -7   2   5  -8   7 -10   3]\n",
      "[-10  -8  -7  -2  -1   2   3   5   5   7]\n"
     ]
    }
   ],
   "source": [
    "#Sorting\n",
    "print(npr)\n",
    "print(np.sort(npr))"
   ]
  },
  {
   "cell_type": "code",
   "execution_count": 42,
   "id": "ff3494bc-b579-4f89-8d89-32980b74e828",
   "metadata": {},
   "outputs": [
    {
     "name": "stdout",
     "output_type": "stream",
     "text": [
      "[[29 29 28 13 19]\n",
      " [20  7 12 18 26]]\n",
      "[[13 19 28 29 29]\n",
      " [ 7 12 18 20 26]]\n"
     ]
    }
   ],
   "source": [
    "#Sorting multidimensional array (Sorts each row)\n",
    "npr = np.random.randint(1,31,10)\n",
    "npr = npr.reshape(2,5)\n",
    "print(npr)\n",
    "print(np.sort(npr))"
   ]
  },
  {
   "cell_type": "code",
   "execution_count": 43,
   "id": "d175a14a-814c-4df7-b637-21ff9ae0819a",
   "metadata": {},
   "outputs": [
    {
     "name": "stdout",
     "output_type": "stream",
     "text": [
      "(array([0, 0, 0, 0, 0, 1, 1, 1, 1]), array([0, 1, 2, 3, 4, 0, 2, 3, 4]))\n"
     ]
    }
   ],
   "source": [
    "#Search for condition\n",
    "x = np.where(npr >= 9)\n",
    "print(x)"
   ]
  },
  {
   "cell_type": "code",
   "execution_count": 44,
   "id": "77873449-a745-4ba6-a2b9-7be094c6ea43",
   "metadata": {},
   "outputs": [
    {
     "name": "stdout",
     "output_type": "stream",
     "text": [
      "[29 29 19  7 18 26]\n"
     ]
    }
   ],
   "source": [
    "#Filtering Array using Bool Array/List\n",
    "boolarr = np.array([\n",
    "    [True, True, False, False, True],\n",
    "    [False, True, False, True, True]])\n",
    "print(npr[boolarr])"
   ]
  },
  {
   "cell_type": "code",
   "execution_count": 45,
   "id": "821132cb-c7c1-4b39-9525-3aba17d58e90",
   "metadata": {},
   "outputs": [
    {
     "name": "stdout",
     "output_type": "stream",
     "text": [
      "[[ True  True False  True  True]\n",
      " [False  True False False False]]\n",
      "[29 29 13 19  7]\n"
     ]
    }
   ],
   "source": [
    "#Filtering using condition\n",
    "filtered = npr % 2 != 0\n",
    "print(filtered)\n",
    "print(npr[filtered])"
   ]
  }
 ],
 "metadata": {
  "kernelspec": {
   "display_name": "Python 3 (ipykernel)",
   "language": "python",
   "name": "python3"
  },
  "language_info": {
   "codemirror_mode": {
    "name": "ipython",
    "version": 3
   },
   "file_extension": ".py",
   "mimetype": "text/x-python",
   "name": "python",
   "nbconvert_exporter": "python",
   "pygments_lexer": "ipython3",
   "version": "3.12.3"
  }
 },
 "nbformat": 4,
 "nbformat_minor": 5
}
