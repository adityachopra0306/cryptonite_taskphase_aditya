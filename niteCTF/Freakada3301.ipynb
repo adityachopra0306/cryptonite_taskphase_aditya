{
 "cells": [
  {
   "cell_type": "markdown",
   "id": "5c54e546-4377-4fc7-8525-02e3323ea912",
   "metadata": {},
   "source": [
    "# niteCTF\n",
    "\n",
    "This is a writeup of the problem I solved in the niteCTF challenge.\n",
    "\n",
    "## Freakada 3301\n",
    "The problem begins with an image file attached to the challenge. I extracted its metadata, which gave me a cyphertext."
   ]
  },
  {
   "cell_type": "markdown",
   "id": "f3419bd4-6aac-4354-b92c-d4e8370d20fe",
   "metadata": {},
   "source": [
    "```\n",
    "ZIT HQZI OL GWLEXKTR, WXZ ZIT ZKXZI SOTL OF ZIT LIQRGVL. LTTA ZIT HQZZTKFL. QDGFU ZIT EIQGL, Q WTQEGF QVQOZL: izzhl://woz.sn/yktqatlztof0. GFSN ZIT VGKZIN VOSS LTT ZIT XFLTTF. ZIT PGXKFTN IQL PXLZ WTUXF\n",
    "```"
   ]
  },
  {
   "cell_type": "markdown",
   "id": "5d6de89f-db89-4215-b691-20453a8a3084",
   "metadata": {},
   "source": [
    "I then analysed this text. There was a link there, but couldnt be read due to the cipher. Since it was a simple substitution cipher, I manually solved it to get the link, using the first 5 letters of the link(that must be 'https') and some common short english words. This revealed the proton drive link: https://bit.ly/freakestein0."
   ]
  },
  {
   "cell_type": "markdown",
   "id": "bbf910e3-f1ac-4cbf-a608-049793b03886",
   "metadata": {},
   "source": [
    "Accessing this link led me to a proton drive which contained another image file. I used binwalk on this file to extract any hidden data."
   ]
  },
  {
   "cell_type": "markdown",
   "id": "5b60a417-13c7-47dd-8195-a9d875e2447e",
   "metadata": {},
   "source": [
    "```\n",
    "binwalk -e ducky.jpg\n",
    "```"
   ]
  },
  {
   "cell_type": "markdown",
   "id": "d0d48759-5e98-44eb-ba83-1305fa8e9c56",
   "metadata": {},
   "source": [
    "This revealed a RAR file within the image that contained a `secret.txt` file, holding a link to the freakada-3301 github user: www.github.com/freakada-3301. This user had one repository named Salvation-in-Decay."
   ]
  },
  {
   "cell_type": "markdown",
   "id": "e241ca67-c00a-47a7-9812-fcc55a31b9a5",
   "metadata": {},
   "source": [
    "Within the repository, i found 3 files. One of them had what looked like the second half of the flag, one had a poem within a previous commit which was later removed, and the third file had a sequence of 3 numbers per line seperated by colons.\n",
    "\n",
    "I figured out that the number of lines in the poem exactly matched the number of 3-number sets in the other file, meaning that for each line, the 3 numbers referred to the Line no., word no. and character no. for each of them. I wrote a python program to solve this which returned a link to a discord channel."
   ]
  },
  {
   "cell_type": "code",
   "execution_count": null,
   "id": "a42cc60a-9756-497d-9e58-4f47955071c3",
   "metadata": {},
   "outputs": [],
   "source": [
    "poem = \"\"\"\n",
    "In the ruins of time, where decay whispers loud,\n",
    "A species once scorned rose from the crowd.\n",
    "Hungry for hope, though their ways seemed absurd,\n",
    "They danced in the dark, defying the word.\n",
    "How their stench carried tales of despair,\n",
    "Yet in their odd rituals, a spark flared there.\n",
    "The truth lay hidden in filth and grime,\n",
    "As their wisdom evolved through ages of time.\n",
    "They thrived where others could only fade,\n",
    "With courage their crude civilization was made.\n",
    "Putrid and proud, they stood undeterred,\n",
    "Singing to stars with each guttural word.\n",
    "A sign appeared, the days ticking by,\n",
    "Seven strange omens lit up the sky.\n",
    "The intellect buried in graveyard lore,\n",
    "Held the key to humanity’s door.\n",
    "They carved their symbols in earth and clay,\n",
    "Willing the stars to show them the way.\n",
    "Through odd numbers, the riddle was sung,\n",
    "\"From death comes life,\" in their guttural tongue.\n",
    "A graveyard planet, a doomed last chance,\n",
    "Brought salvation's glimmer in their dance.\n",
    "The path to rebirth, though steep and gray,\n",
    "Might just lie in their fetid display.\n",
    "What’s unseen beneath this grotesque mirth?\n",
    "The Answer that stirs from the depths of earth.\n",
    "Symbols align as the stars hold their breath,\n",
    "Hope reborn in the face of death.\n",
    "Though shunned at first, these creatures grew,\n",
    "A journey of worth the cosmos knew.\n",
    "The 7 signs spoke of a rising tide,\n",
    "An ascension to truth they couldn’t hide.\n",
    "Realization came in whispers and cries,\n",
    "That brilliance sometimes wears a crude disguise.\n",
    "From 2nd chances and acts that seemed odd,\n",
    "The beasts became more than a wink of God.\n",
    "In their filth lay the universe's final quest,\n",
    "Quest to unearth the future from decay’s cruel jest.\n",
    "So seek them now, these saviors divine,\n",
    "For the answers they hold may soon be mine.\n",
    "\"\"\".strip().split('\\n')\n",
    "\n",
    "numbers = [\n",
    "    (16, 5, 1), (15, 2, 9), (40, 4, 1), (33, 5, 5), (36, 2, 4),\n",
    "    (1, 9, 4), (23, 4, 4), (25, 5, 6), (5, 3, 5), (21, 5, 2),\n",
    "    (29, 6, 7), (28, 6, 1), (7, 8, 1), (18, 1, 7), (30, 1, 1),\n",
    "    (16, 1, 1), (30, 2, 1), (31, 2, 1), (33, 1, 1), (35, 2, 1),\n",
    "    (38, 1, 1), (11, 6, 3)\n",
    "]\n",
    "\n",
    "def get_character(poem, l, w, c):\n",
    "    line = poem[l- 1]\n",
    "    words = line.split()\n",
    "    if w <= len(words):\n",
    "        word = words[w - 1]\n",
    "        if c <= len(word):\n",
    "            return word[c - 1]\n",
    "    return ''\n",
    "\n",
    "result = ''.join(get_character(poem, line, word, char) for line, word, char in numbers)\n",
    "\n",
    "print(\"The hidden message is:\", result)"
   ]
  },
  {
   "cell_type": "markdown",
   "id": "7bc5eeda-3f2f-42f7-9426-1240af3cb9aa",
   "metadata": {},
   "source": [
    "Within this discord channel there was a voice channel, which had absolutely nothing to do with the problem. Within the members, I found a bot named freakada whose bio read 'give me my prime and ill give you the flag'. I started by trying random prime drink flavours but none of it worked. Eventually a team member found that giving the 3301 command to the bot solved it."
   ]
  },
  {
   "cell_type": "markdown",
   "id": "db65e153-04f7-4446-8993-dd4cbd64c41d",
   "metadata": {},
   "source": [
    "This led my team to the 'Freaky Backshots Cliff' google maps link. The images contained several files and a QR code, which linked to a proton drive link containing a .wav file. Using a spectrogram on this file revealed hidden text which seemed like the first half of the flag.\n",
    "\n",
    "![Spectrogram](AudioVisualize.jpeg)"
   ]
  },
  {
   "cell_type": "markdown",
   "id": "82892f98-7898-4b8d-99c8-33c7b21fa6bf",
   "metadata": {},
   "source": [
    "There was another QR code within the images, which couldnt be scanned easily. This is where the CTF ended. Since I was travelling and could only participate within the last 3 hours of the CTF, I couldn't wholly complete this problem.\n",
    "\n",
    "![QR Code](QR.jpeg)"
   ]
  }
 ],
 "metadata": {
  "kernelspec": {
   "display_name": "Python 3 (ipykernel)",
   "language": "python",
   "name": "python3"
  },
  "language_info": {
   "codemirror_mode": {
    "name": "ipython",
    "version": 3
   },
   "file_extension": ".py",
   "mimetype": "text/x-python",
   "name": "python",
   "nbconvert_exporter": "python",
   "pygments_lexer": "ipython3",
   "version": "3.12.3"
  }
 },
 "nbformat": 4,
 "nbformat_minor": 5
}
